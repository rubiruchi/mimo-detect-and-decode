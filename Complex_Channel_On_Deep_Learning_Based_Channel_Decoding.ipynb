{
  "nbformat": 4,
  "nbformat_minor": 0,
  "metadata": {
    "colab": {
      "name": "Complex Channel On Deep Learning-Based Channel Decoding.ipynb",
      "version": "0.3.2",
      "provenance": [],
      "collapsed_sections": []
    },
    "kernelspec": {
      "display_name": "Python 3",
      "language": "python",
      "name": "python3"
    }
  },
  "cells": [
    {
      "metadata": {
        "id": "WcpQQ7J4RSLG",
        "colab_type": "text"
      },
      "cell_type": "markdown",
      "source": [
        "# MIMO Detect and Decode\n",
        "\n",
        "We use code based off of:\n",
        "\n",
        "    @article{nn-decoding,\n",
        "      title={On Deep Learning-Based Channel Decoding},\n",
        "      author={Tobias Gruber and\n",
        "              Sebastian Cammerer and\n",
        "              Jakob Hoydis and\n",
        "              Stephan ten Brink}\n",
        "      journal={CoRR}\n",
        "      year={2017}\n",
        "      url= {http://arxiv.org/abs/1701.07738}\n",
        "    }\n",
        "\n",
        "And methodology based off of:\n",
        "```\n",
        "@article{wang2019deep,\n",
        "  title={Deep Learning for Joint MIMO Detection and Channel Decoding},\n",
        "  author={Wang, Taotao and Zhang, Lihao and Liew, Soung Chang},\n",
        "  journal={arXiv preprint arXiv:1901.05647},\n",
        "  year={2019}\n",
        "}\n",
        "```\n",
        "\n",
        "We demonstrate the use of DNN in Python using polar coded bits of rate =.5, K=8, and BPSK modulation.\n",
        "These inputs are interleaved across <i>n</i> transmit antennas and go through a complex Gaussian channel and AWG complex noise. The vector outputs are collected at the <i>n</i> receive antennas before they are flattened and split into their real and imaginary components before being fed to the DNN receiver with the channel estimate as an input as well. \n",
        "\n",
        "We recommend running this code on Google Colaboratory or another GPU setup."
      ]
    },
    {
      "metadata": {
        "id": "4jeXGfzdRSLK",
        "colab_type": "code",
        "outputId": "06b89b84-0cbd-483e-90d9-7f1098727aa4",
        "colab": {
          "base_uri": "https://localhost:8080/",
          "height": 34
        }
      },
      "cell_type": "code",
      "source": [
        "import numpy as np\n",
        "from keras.models import Sequential\n",
        "from keras.layers.core import Dense, Lambda, Reshape\n",
        "from keras.layers import concatenate, Flatten, Input, Permute\n",
        "from keras import backend as K\n",
        "import matplotlib.pyplot as plt\n",
        "import tensorflow as tf\n",
        "%matplotlib inline"
      ],
      "execution_count": 1,
      "outputs": [
        {
          "output_type": "stream",
          "text": [
            "Using TensorFlow backend.\n"
          ],
          "name": "stderr"
        }
      ]
    },
    {
      "metadata": {
        "id": "khpYWQ2fRSLW",
        "colab_type": "text"
      },
      "cell_type": "markdown",
      "source": [
        "# Parameters"
      ]
    },
    {
      "metadata": {
        "id": "oDKeRtRTRSLY",
        "colab_type": "code",
        "colab": {}
      },
      "cell_type": "code",
      "source": [
        "k = 8                       # number of information bits\n",
        "N = 16                      # code length\n",
        "train_SNR_Eb = 1            # training-Eb/No\n",
        "\n",
        "nb_epoch = 2**16            # number of learning epochs\n",
        "code = 'polar'              # type of code ('random' or 'polar')\n",
        "design = [128, 64, 32]      # each list entry defines the number of nodes in a layer\n",
        "batch_size = 256            # size of batches for calculation the gradient\n",
        "LLR = False                 # 'True' enables the log-likelihood-ratio layer\n",
        "optimizer = 'adam'           \n",
        "loss = 'mse'                # or 'binary_crossentropy'\n",
        "\n",
        "train_SNR_Es = train_SNR_Eb + 10*np.log10(k/N)\n",
        "train_sigma = np.sqrt((2*10**(train_SNR_Es/10)))"
      ],
      "execution_count": 0,
      "outputs": []
    },
    {
      "metadata": {
        "id": "1w4P1-cJRSLr",
        "colab_type": "text"
      },
      "cell_type": "markdown",
      "source": [
        "# Data Generation"
      ]
    },
    {
      "metadata": {
        "id": "Dz36G_0cRSLt",
        "colab_type": "code",
        "colab": {}
      },
      "cell_type": "code",
      "source": [
        "def half_adder(a,b):\n",
        "    s = a ^ b\n",
        "    c = a & b\n",
        "    return s,c\n",
        "\n",
        "def full_adder(a,b,c):\n",
        "    s = (a ^ b) ^ c\n",
        "    c = (a & b) | (c & (a ^ b))\n",
        "    return s,c\n",
        "\n",
        "def add_bool(a,b):\n",
        "    if len(a) != len(b):\n",
        "        raise ValueError('arrays with different length')\n",
        "    k = len(a)\n",
        "    s = np.zeros(k,dtype=bool)\n",
        "    c = False\n",
        "    for i in reversed(range(0,k)):\n",
        "        s[i], c = full_adder(a[i],b[i],c)    \n",
        "    if c:\n",
        "        warnings.warn(\"Addition overflow!\")\n",
        "    return s\n",
        "\n",
        "def inc_bool(a):\n",
        "    k = len(a)\n",
        "    increment = np.hstack((np.zeros(k-1,dtype=bool), np.ones(1,dtype=bool)))\n",
        "    a = add_bool(a,increment)\n",
        "    return a\n",
        "\n",
        "def bitrevorder(x):\n",
        "    m = np.amax(x)\n",
        "    n = np.ceil(np.log2(m)).astype(int)\n",
        "    for i in range(0,len(x)):\n",
        "        x[i] = int('{:0{n}b}'.format(x[i],n=n)[::-1],2)  \n",
        "    return x\n",
        "\n",
        "def int2bin(x,N):\n",
        "    if isinstance(x, list) or isinstance(x, np.ndarray):\n",
        "        binary = np.zeros((len(x),N),dtype='bool')\n",
        "        for i in range(0,len(x)):\n",
        "            binary[i] = np.array([int(j) for j in bin(x[i])[2:].zfill(N)])\n",
        "    else:\n",
        "        binary = np.array([int(j) for j in bin(x)[2:].zfill(N)],dtype=bool)\n",
        "    \n",
        "    return binary\n",
        "\n",
        "def bin2int(b):\n",
        "    if isinstance(b[0], list):\n",
        "        integer = np.zeros((len(b),),dtype=int)\n",
        "        for i in range(0,len(b)):\n",
        "            out = 0\n",
        "            for bit in b[i]:\n",
        "                out = (out << 1) | bit\n",
        "            integer[i] = out\n",
        "    elif isinstance(b, np.ndarray):\n",
        "        if len(b.shape) == 1:\n",
        "            out = 0\n",
        "            for bit in b:\n",
        "                out = (out << 1) | bit\n",
        "            integer = out     \n",
        "        else:\n",
        "            integer = np.zeros((b.shape[0],),dtype=int)\n",
        "            for i in range(0,b.shape[0]):\n",
        "                out = 0\n",
        "                for bit in b[i]:\n",
        "                    out = (out << 1) | bit\n",
        "                integer[i] = out\n",
        "        \n",
        "    return integer\n",
        "\n",
        "def polar_design_awgn(N, k, design_snr_dB):  \n",
        "        \n",
        "    S = 10**(design_snr_dB/10)\n",
        "    z0 = np.zeros(N)\n",
        "\n",
        "    z0[0] = np.exp(-S)\n",
        "    for j in range(1,int(np.log2(N))+1):\n",
        "        u = 2**j\n",
        "        for t in range(0,int(u/2)):\n",
        "            T = z0[t]\n",
        "            z0[t] = 2*T - T**2     # upper channel\n",
        "            z0[int(u/2)+t] = T**2  # lower channel\n",
        "        \n",
        "    # sort into increasing order\n",
        "    idx = np.argsort(z0)\n",
        "        \n",
        "    # select k best channels\n",
        "    idx = np.sort(bitrevorder(idx[0:k]))\n",
        "    \n",
        "    A = np.zeros(N, dtype=bool)\n",
        "    A[idx] = True\n",
        "        \n",
        "    return A\n",
        "\n",
        "def polar_transform_iter(u):\n",
        "\n",
        "    N = len(u)\n",
        "    n = 1\n",
        "    x = np.copy(u)\n",
        "    stages = np.log2(N).astype(int)\n",
        "    for s in range(0,stages):\n",
        "        i = 0\n",
        "        while i < N:\n",
        "            for j in range(0,n):\n",
        "                idx = i+j\n",
        "                x[idx] = x[idx] ^ x[idx+n]\n",
        "            i=i+2*n\n",
        "        n=2*n\n",
        "    return x"
      ],
      "execution_count": 0,
      "outputs": []
    },
    {
      "metadata": {
        "id": "NUkSeLB3RSLz",
        "colab_type": "code",
        "colab": {}
      },
      "cell_type": "code",
      "source": [
        "# Create all possible information words\n",
        "d = np.zeros((2**k,k),dtype=bool)\n",
        "for i in range(1,2**k):\n",
        "    d[i]= inc_bool(d[i-1])\n",
        "\n",
        "# Create sets of all possible codewords (codebook)\n",
        "if code == 'polar':   \n",
        "    \n",
        "    A = polar_design_awgn(N, k, design_snr_dB=0)  # logical vector indicating the nonfrozen bit locations \n",
        "    x = np.zeros((2**k, N),dtype=bool)\n",
        "    u = np.zeros((2**k, N),dtype=bool)\n",
        "    u[:,A] = d\n",
        "\n",
        "    for i in range(0,2**k):\n",
        "        x[i] = polar_transform_iter(u[i])\n",
        "\n",
        "elif code == 'random':\n",
        "    \n",
        "    np.random.seed(4267)   # for a 16bit Random Code (r=0.5) with Hamming distance >= 2\n",
        "    x = np.random.randint(0,2,size=(2**k,N), dtype=bool)"
      ],
      "execution_count": 0,
      "outputs": []
    },
    {
      "metadata": {
        "id": "on9mbcMzRSLe",
        "colab_type": "text"
      },
      "cell_type": "markdown",
      "source": [
        "# Define NN model, Train, and Test"
      ]
    },
    {
      "metadata": {
        "id": "i92yPtDbRSLg",
        "colab_type": "code",
        "colab": {}
      },
      "cell_type": "code",
      "source": [
        "def modulateBPSK(x):\n",
        "    return -2*x +1;\n",
        "\n",
        "def addNoise(x, Hest, sigma):\n",
        "    w = tf.dtypes.cast(K.random_normal(K.shape(x), mean=0.0), tf.complex64)*\\\n",
        "          tf.exp(-1j*2*tf.dtypes.cast(np.pi*K.random_uniform(K.shape(x)), tf.complex64))\n",
        "    return tf.tensordot(tf.dtypes.cast(tf.sqrt(1/n)*x, tf.complex64), \n",
        "                        tf.dtypes.cast(Hest, tf.complex64), [-1, 0]) + \\\n",
        "              sigma*tf.dtypes.cast(w, tf.complex64)\n",
        "\n",
        "def ber(y_true, y_pred):\n",
        "    return K.mean(K.abs(y_true - K.round(y_pred)))\n",
        "\n",
        "def return_output_shape(input_shape):  \n",
        "    return input_shape\n",
        "\n",
        "def compose_model(layers):\n",
        "    model = Sequential()\n",
        "    for layer in layers:\n",
        "        model.add(layer)\n",
        "    return model\n",
        "  \n",
        "def log_likelihood_ratio(x, sigma):\n",
        "    return 2*x/np.float32(sigma**2)\n",
        "\n",
        "def errors(y_true, y_pred):\n",
        "    return K.sum(K.abs(y_true - K.round(y_pred)))\n",
        "\n",
        "def flatten(x, flatHest):\n",
        "    out1 = Reshape((N,), input_shape=(N//n,n), dtype=tf.complex64)(x)\n",
        "    H_ = tf.constant(flatHest, dtype=tf.complex64)\n",
        "    duplicated = tf.map_fn(lambda ele : H_, out1)\n",
        "    out3 = concatenate([out1, duplicated], axis=-1)\n",
        "    out4 = concatenate([tf.real(out3), tf.imag(out3)], axis=-1)\n",
        "    return tf.dtypes.cast(out4, dtype=tf.float32)"
      ],
      "execution_count": 0,
      "outputs": []
    },
    {
      "metadata": {
        "id": "EdcqhIBkRSMG",
        "colab_type": "code",
        "colab": {}
      },
      "cell_type": "code",
      "source": [
        "test_batch = 1000  \n",
        "num_words = 100000      # multiple of test_batch\n",
        "\n",
        "SNR_dB_start_Eb = 0\n",
        "SNR_dB_stop_Eb = 10\n",
        "SNR_points = 20"
      ],
      "execution_count": 0,
      "outputs": []
    },
    {
      "metadata": {
        "id": "SR6g1Yb69y8h",
        "colab_type": "code",
        "colab": {
          "base_uri": "https://localhost:8080/",
          "height": 806
        },
        "outputId": "771fbffd-edc6-46e8-f2ca-962bee6b49f0"
      },
      "cell_type": "code",
      "source": [
        "results = {}\n",
        "for n in [2,4]: # antennas\n",
        "    decoder_input_shape = 2*(n*n + N)\n",
        "    H = np.random.randn(n)*np.exp(-1j*2*np.pi*np.random.rand(n,n));\n",
        "    Hest = H\n",
        "    flatHest = np.reshape(Hest,[n*n])\n",
        "    \n",
        "    # Define modulator\n",
        "    modulator_layers = [Lambda(modulateBPSK, \n",
        "                              input_shape=(N,), output_shape=return_output_shape, name=\"modulator\"),\n",
        "                       Reshape((N//n,n), input_shape=(N,), name=\"serial-to-parallelizer\")]\n",
        "    modulator = compose_model(modulator_layers)\n",
        "    modulator.compile(optimizer=optimizer, loss=loss)\n",
        "\n",
        "    # Define noise\n",
        "    noise_layers = [Lambda(addNoise, arguments={'sigma':train_sigma, 'Hest':Hest}, \n",
        "                           input_shape=(N//n,n), output_shape=return_output_shape, name=\"noise\"),\n",
        "                   Lambda(flatten, arguments={'flatHest':flatHest}, \n",
        "                           input_shape=(N//n,n), output_shape=(decoder_input_shape,), name=\"flattener\")]\n",
        "    noise = compose_model(noise_layers)\n",
        "    noise.compile(optimizer=optimizer, loss=loss)\n",
        "\n",
        "    # Define decoder \n",
        "    decoder_layers = [Dense(design[0], activation='relu', input_shape=(decoder_input_shape,))]\n",
        "    for i in range(1,len(design)):\n",
        "        decoder_layers.append(Dense(design[i], activation='relu'))\n",
        "    decoder_layers.append(Dense(k, activation='sigmoid'))\n",
        "    decoder = compose_model(decoder_layers)\n",
        "    decoder.compile(optimizer=optimizer, loss=loss, metrics=[errors])\n",
        "\n",
        "    # Define model\n",
        "    model_layers = modulator_layers + noise_layers + decoder_layers\n",
        "    model = compose_model(model_layers)\n",
        "    model.compile(optimizer=optimizer, loss=loss, metrics=[ber])\n",
        " \n",
        "    model.summary()\n",
        "    history = model.fit(x, d, batch_size=batch_size, nb_epoch=nb_epoch, verbose=0, shuffle=True)\n",
        "    \n",
        "    SNR_dB_start_Es = SNR_dB_start_Eb + 10*np.log10(k/N)\n",
        "    SNR_dB_stop_Es = SNR_dB_stop_Eb + 10*np.log10(k/N)\n",
        "\n",
        "    sigma_start = np.sqrt(1/(2*10**(SNR_dB_start_Es/10)))\n",
        "    sigma_stop = np.sqrt(1/(2*10**(SNR_dB_stop_Es/10)))\n",
        "\n",
        "    sigmas = np.linspace(sigma_start, sigma_stop, SNR_points)\n",
        "\n",
        "    nb_errors = np.zeros(len(sigmas),dtype=int)\n",
        "    nb_bits = np.zeros(len(sigmas),dtype=int)\n",
        "\n",
        "    for i in range(0,len(sigmas)):\n",
        "\n",
        "        for ii in range(0,np.round(num_words/test_batch).astype(int)):\n",
        "\n",
        "            # Source\n",
        "            np.random.seed(0)\n",
        "            d_test = np.random.randint(0,2,size=(test_batch,k)) \n",
        "\n",
        "            # Encoder\n",
        "            if code == 'polar':\n",
        "                x_test = np.zeros((test_batch, N),dtype=bool)\n",
        "                u_test = np.zeros((test_batch, N),dtype=bool)\n",
        "                u_test[:,A] = d_test\n",
        "\n",
        "                for iii in range(0,test_batch):\n",
        "                    x_test[iii] = polar_transform_iter(u_test[iii])\n",
        "\n",
        "            elif code == 'random':\n",
        "                x_test = np.zeros((test_batch, N),dtype=bool)\n",
        "                for iii in range(0,test_batch):\n",
        "                    x_test[iii] = x[bin2int(d_test[iii])]\n",
        "\n",
        "            # Modulator (BPSK)\n",
        "            s_test = -2*x_test + 1\n",
        "\n",
        "            # Serial to parallel\n",
        "            p_test = np.reshape(s_test, [test_batch, N//n, n])\n",
        "            assert((s_test[0,:] == p_test[0,:,:].flatten()).all())\n",
        "            assert((s_test[3,:] == p_test[3,:,:].flatten()).all())\n",
        "            assert((s_test[27,:] == p_test[27,:,:].flatten()).all())\n",
        "\n",
        "            # Channel (AWGN)\n",
        "            y_test = np.dot(np.sqrt(1/n)*p_test, H) + sigmas[i]*np.random.standard_normal(p_test.shape)*np.exp(-1j*2*np.pi*np.random.uniform(size=p_test.shape))\n",
        "\n",
        "            # Flattened\n",
        "            f_test = np.reshape(y_test, (-1,N))\n",
        "            new_shape = [f_test.shape[0],decoder_input_shape]\n",
        "            z_test = np.zeros(new_shape)\n",
        "            z_test[:,0:N] = np.real(f_test)\n",
        "            z_test[:,N:n*n+N] = np.real(H).flatten()\n",
        "            z_test[:,n*n+N:2*N+n*n] = np.imag(f_test)\n",
        "            z_test[:,2*N + n*n:] = np.imag(H).flatten()\n",
        "\n",
        "            # Decoder\n",
        "            nb_errors[i] += decoder.evaluate(z_test, d_test, batch_size=test_batch, verbose=0)[1]\n",
        "            nb_bits[i] += d_test.size\n",
        "            \n",
        "            \n",
        "    results[n] = (nb_errors/nb_bits)"
      ],
      "execution_count": 21,
      "outputs": [
        {
          "output_type": "stream",
          "text": [
            "_________________________________________________________________\n",
            "Layer (type)                 Output Shape              Param #   \n",
            "=================================================================\n",
            "modulator (Lambda)           (None, 16)                0         \n",
            "_________________________________________________________________\n",
            "serial-to-parallelizer (Resh (None, 8, 2)              0         \n",
            "_________________________________________________________________\n",
            "noise (Lambda)               (None, 8, 2)              0         \n",
            "_________________________________________________________________\n",
            "flattener (Lambda)           (None, 40)                0         \n",
            "_________________________________________________________________\n",
            "dense_17 (Dense)             (None, 128)               5248      \n",
            "_________________________________________________________________\n",
            "dense_18 (Dense)             (None, 64)                8256      \n",
            "_________________________________________________________________\n",
            "dense_19 (Dense)             (None, 32)                2080      \n",
            "_________________________________________________________________\n",
            "dense_20 (Dense)             (None, 8)                 264       \n",
            "=================================================================\n",
            "Total params: 15,848\n",
            "Trainable params: 15,848\n",
            "Non-trainable params: 0\n",
            "_________________________________________________________________\n"
          ],
          "name": "stdout"
        },
        {
          "output_type": "stream",
          "text": [
            "/usr/local/lib/python3.6/dist-packages/ipykernel_launcher.py:37: UserWarning: The `nb_epoch` argument in `fit` has been renamed `epochs`.\n"
          ],
          "name": "stderr"
        },
        {
          "output_type": "stream",
          "text": [
            "_________________________________________________________________\n",
            "Layer (type)                 Output Shape              Param #   \n",
            "=================================================================\n",
            "modulator (Lambda)           (None, 16)                0         \n",
            "_________________________________________________________________\n",
            "serial-to-parallelizer (Resh (None, 4, 4)              0         \n",
            "_________________________________________________________________\n",
            "noise (Lambda)               (None, 4, 4)              0         \n",
            "_________________________________________________________________\n",
            "flattener (Lambda)           (None, 64)                0         \n",
            "_________________________________________________________________\n",
            "dense_21 (Dense)             (None, 128)               8320      \n",
            "_________________________________________________________________\n",
            "dense_22 (Dense)             (None, 64)                8256      \n",
            "_________________________________________________________________\n",
            "dense_23 (Dense)             (None, 32)                2080      \n",
            "_________________________________________________________________\n",
            "dense_24 (Dense)             (None, 8)                 264       \n",
            "=================================================================\n",
            "Total params: 18,920\n",
            "Trainable params: 18,920\n",
            "Non-trainable params: 0\n",
            "_________________________________________________________________\n"
          ],
          "name": "stdout"
        }
      ]
    },
    {
      "metadata": {
        "id": "w3W8J04_RSMY",
        "colab_type": "text"
      },
      "cell_type": "markdown",
      "source": [
        "# Plot Bit-Error-Rate"
      ]
    },
    {
      "metadata": {
        "id": "RmRbLxZ0RSMa",
        "colab_type": "code",
        "outputId": "84283159-04ba-4eb4-acfa-03ee7abe1240",
        "colab": {
          "base_uri": "https://localhost:8080/",
          "height": 283
        }
      },
      "cell_type": "code",
      "source": [
        "legend = []\n",
        "\n",
        "for i in [2,4]:\n",
        "  plt.plot(10*np.log10(1/(2*sigmas**2)) - 10*np.log10(k/N), results[i])\n",
        "  legend.append('NN for system with %d antennas' %i) \n",
        "\n",
        "plt.legend(legend, loc=3)\n",
        "plt.yscale('log')\n",
        "plt.xlabel('$E_b/N_0$')\n",
        "plt.ylabel('BER')    \n",
        "plt.grid(True)\n",
        "plt.show()"
      ],
      "execution_count": 22,
      "outputs": [
        {
          "output_type": "display_data",
          "data": {
            "image/png": "[encoded data removed]",
            "text/plain": [
              "<Figure size 432x288 with 1 Axes>"
            ]
          },
          "metadata": {
            "tags": []
          }
        }
      ]
    },
    {
      "metadata": {
        "id": "qKguNd3LX1fT",
        "colab_type": "code",
        "colab": {
          "base_uri": "https://localhost:8080/",
          "height": 84
        },
        "outputId": "763b531e-f0e1-4cf3-f1a0-90b040fcbf0c"
      },
      "cell_type": "code",
      "source": [
        "results"
      ],
      "execution_count": 11,
      "outputs": [
        {
          "output_type": "execute_result",
          "data": {
            "text/plain": [
              "{2: array([0., 0., 0., 0., 0., 0., 0., 0., 0., 0., 0., 0., 0., 0., 0., 0., 0.,\n",
              "        0., 0., 0.]),\n",
              " 4: array([0., 0., 0., 0., 0., 0., 0., 0., 0., 0., 0., 0., 0., 0., 0., 0., 0.,\n",
              "        0., 0., 0.])}"
            ]
          },
          "metadata": {
            "tags": []
          },
          "execution_count": 11
        }
      ]
    },
    {
      "metadata": {
        "id": "y23yhQ_OlzD_",
        "colab_type": "code",
        "colab": {}
      },
      "cell_type": "code",
      "source": [
        "for i in range(0,len(sigmas)):\n",
        "\n",
        "        for ii in range(0,np.round(num_words/test_batch).astype(int)):\n",
        "\n",
        "            # Source\n",
        "            np.random.seed(0)\n",
        "            d_test = np.random.randint(0,2,size=(test_batch,k)) \n",
        "\n",
        "            # Encoder\n",
        "            if code == 'polar':\n",
        "                x_test = np.zeros((test_batch, N),dtype=bool)\n",
        "                u_test = np.zeros((test_batch, N),dtype=bool)\n",
        "                u_test[:,A] = d_test\n",
        "\n",
        "                for iii in range(0,test_batch):\n",
        "                    x_test[iii] = polar_transform_iter(u_test[iii])\n",
        "\n",
        "            elif code == 'random':\n",
        "                x_test = np.zeros((test_batch, N),dtype=bool)\n",
        "                for iii in range(0,test_batch):\n",
        "                    x_test[iii] = x[bin2int(d_test[iii])]\n",
        "\n",
        "            # Modulator (BPSK)\n",
        "            s_test = -2*x_test + 1\n",
        "\n",
        "            # Serial to parallel\n",
        "            p_test = np.reshape(s_test, [test_batch, N//n, n])\n",
        "            assert((s_test[0,:] == p_test[0,:,:].flatten()).all())\n",
        "            assert((s_test[3,:] == p_test[3,:,:].flatten()).all())\n",
        "            assert((s_test[27,:] == p_test[27,:,:].flatten()).all())\n",
        "\n",
        "            # Channel (AWGN)\n",
        "            y_test = np.dot(np.sqrt(1/n)*p_test, H) + sigmas[i]*np.random.standard_normal(p_test.shape),np.exp(-1j*2*np.pi*np.random.uniform(size=p_test.shape))\n",
        "\n",
        "            # Flattened\n",
        "            f_test = np.reshape(y_test, (-1,N))\n",
        "            new_shape = [f_test.shape[0],decoder_input_shape]\n",
        "            z_test = np.zeros(new_shape)\n",
        "            z_test[:,0:N] = np.real(f_test)\n",
        "            z_test[:,N:n*n+N] = np.real(H).flatten()\n",
        "            z_test[:,n*n+N:2*N+n*n] = np.imag(f_test)\n",
        "            z_test[:,2*N + n*n:] = np.imag(H).flatten()\n",
        "\n",
        "            # Decoder\n",
        "            nb_errors[i] += decoder.evaluate(z_test, d_test, batch_size=test_batch, verbose=0)[1]\n",
        "            nb_bits[i] += d_test.size"
      ],
      "execution_count": 0,
      "outputs": []
    },
    {
      "metadata": {
        "id": "Scpw6K2smMrv",
        "colab_type": "code",
        "colab": {
          "base_uri": "https://localhost:8080/",
          "height": 283
        },
        "outputId": "e6300978-5644-4489-c905-9c85ffb5fbb5"
      },
      "cell_type": "code",
      "source": [
        "legend = []\n",
        "\n",
        "for i in [4]:\n",
        "  plt.plot(10*np.log10(1/(2*sigmas**2)) - 10*np.log10(k/N), (nb_errors/nb_bits))\n",
        "  legend.append('NN for system with %d antennas' %i) \n",
        "\n",
        "plt.legend(legend, loc=3)\n",
        "plt.yscale('log')\n",
        "plt.xlabel('$E_b/N_0$')\n",
        "plt.ylabel('BER')    \n",
        "plt.grid(True)\n",
        "plt.show()"
      ],
      "execution_count": 17,
      "outputs": [
        {
          "output_type": "display_data",
          "data": {
            "image/png": "[encoded data removed]",
            "text/plain": [
              "<Figure size 432x288 with 1 Axes>"
            ]
          },
          "metadata": {
            "tags": []
          }
        }
      ]
    },
    {
      "metadata": {
        "id": "41OXvNxKxm-E",
        "colab_type": "code",
        "colab": {}
      },
      "cell_type": "code",
      "source": [
        ""
      ],
      "execution_count": 0,
      "outputs": []
    }
  ]
}