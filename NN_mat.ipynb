{
 "cells": [
  {
   "cell_type": "code",
   "execution_count": 1,
   "metadata": {},
   "outputs": [
    {
     "name": "stdout",
     "output_type": "stream",
     "text": [
      "\n",
      " All polar coding parameters & resources initialized. (in a structure - \"PCparams\") \n",
      "                           N: 32\n",
      "                           K: 16\n",
      "                           n: 5\n",
      "                    FZlookup: [1×32 double]\n",
      "        design_channelstring: 'AWGN'\n",
      "         design_channelstate: 0\n",
      "                         LLR: [1×63 double]\n",
      "                        BITS: [2×31 double]\n",
      "          bitreversedindices: [32×1 double]\n",
      "    index_of_first0_from_MSB: [32×1 double]\n",
      "    index_of_first1_from_MSB: [32×1 double]\n",
      "\n"
     ]
    }
   ],
   "source": [
    "global H Hest flatHest TRAIN_SIZE TEST_SIZE SNR n K R N INPUT_SIZE qamTab antennaNorm options\n",
    "\n",
    "SNR = 10;\n",
    "n = 2; % number of tx and rx antennas\n",
    "K = 16; % bits per msg\n",
    "R = .5; % polar rate\n",
    "N = (2^nextpow2(K))/R; % bits per coded symbol\n",
    "qamBitSize = 1;\n",
    "qamSize = 2^qamBitSize;\n",
    "normAnt = 1;\n",
    "normConst = 1;\n",
    "precode = 0;\n",
    "\n",
    "TRAIN_SIZE = 256; \n",
    "TEST_SIZE = 1024; \n",
    "\n",
    "INPUT_SIZE = 2*n*(N/qamBitSize + n);\n",
    "OUTPUT_SIZE = K;\n",
    "\n",
    "addpath('./samples/polar');\n",
    "addpath('./samples/polar/functions');\n",
    "\n",
    "initPC(N,K,'AWGN',0);\n",
    "%SNR: Default: 0dB;  := Eb/N0,  where (K*Eb/N) is the energy used during BPSK modulation of coded-bits)\n",
    "\n",
    "% Create constallation table\n",
    "qamTab = ConstellationTable(qamSize, normConst);\n",
    "\n",
    "% Channel matrix - Gaussian\n",
    "H = eye(n);\n",
    "%H = randn(n).*exp(-1i*2*pi*rand(n,n));\n",
    "\n",
    "% Channel estimate setup\n",
    "noiseVal = 10^(-SNR/10)*K/N;\n",
    "noiseVec = sqrt(noiseVal)*randn(n,n); % Each symbol is received noisily\n",
    "\n",
    "antennaNorm = 1;\n",
    "if (normAnt)\n",
    "    antennaNorm = 1/sqrt(n);\n",
    "end"
   ]
  },
  {
   "cell_type": "code",
   "execution_count": 2,
   "metadata": {},
   "outputs": [
    {
     "name": "stderr",
     "output_type": "stream",
     "text": [
      "Error using eval\n",
      "Undefined function or variable 'batchNormalizationLayer'.\n",
      "\n"
     ]
    }
   ],
   "source": [
    "% Channel estimation\n",
    "pilotData = hadamard(n);\n",
    "% Apply channel\n",
    "Y = antennaNorm*H*pilotData + noiseVec; % Nonfading gaussian channel\n",
    "%Hest = 1/antennaNorm*Y*pilotData'*inv(pilotData*pilotData');\n",
    "Hest = H;\n",
    "flatHest = [real(Hest); imag(Hest)];\n",
    "flatHest = reshape(flatHest,[],1);\n",
    "\n",
    "layers = [\n",
    "    imageInputLayer([INPUT_SIZE 1 1])\n",
    "\n",
    "    fullyConnectedLayer(300)\n",
    "    reluLayer\n",
    "    fullyConnectedLayer(300)\n",
    "    batchNormalizationLayer\n",
    "    reluLayer\n",
    "    fullyConnectedLayer(300)\n",
    "    batchNormalizationLayer\n",
    "    reluLayer\n",
    "    fullyConnectedLayer(300)\n",
    "    reluLayer\n",
    "    fullyConnectedLayer(300)\n",
    "    batchNormalizationLayer\n",
    "    reluLayer\n",
    "    fullyConnectedLayer(300)\n",
    "    batchNormalizationLayer\n",
    "    reluLayer\n",
    "    fullyConnectedLayer(OUTPUT_SIZE)\n",
    "    sigmoidLayer\n",
    "    sigmoidClassificationLayer\n",
    "];\n",
    "\n",
    "\n",
    "options =  trainingOptions('adam', ...\n",
    "    'InitialLearnRate',3e-3, ...\n",
    "    'MaxEpochs',1, ...\n",
    "    'MiniBatchSize',64);\n"
   ]
  },
  {
   "cell_type": "code",
   "execution_count": 3,
   "metadata": {},
   "outputs": [
    {
     "name": "stderr",
     "output_type": "stream",
     "text": [
      "Error using eval\n",
      "Undefined function or variable 'layers'.\n",
      "\n"
     ]
    }
   ],
   "source": [
    "snr = 30;\n",
    "\n",
    "net = TrainEpoch(layers);\n",
    "\n",
    "for i=1:(10^4)\n",
    "    layers = net.Layers;\n",
    "    net = TrainEpoch(layers);\n",
    "end\n",
    "\n",
    "SNR = 8;\n",
    "\n",
    "for i=1:(2*10^4)\n",
    "    layers = net.Layers;\n",
    "    net = TrainEpoch(layers);\n",
    "end\n",
    "\n",
    "SNR = 6;\n",
    "\n",
    "for i=1:(2*10^4)\n",
    "    layers = net.Layers;\n",
    "    net = TrainEpoch(layers);\n",
    "end\n",
    "\n"
   ]
  },
  {
   "cell_type": "code",
   "execution_count": 4,
   "metadata": {},
   "outputs": [
    {
     "name": "stderr",
     "output_type": "stream",
     "text": [
      "Error: Function definitions are not permitted in this context.\n",
      "\n"
     ]
    }
   ],
   "source": [
    "function [net] = TrainEpoch(layers)\n",
    "global H Hest flatHest TRAIN_SIZE TEST_SIZE SNR n K R N INPUT_SIZE qamTab antennaNorm options\n",
    "\n",
    "training = GenerateData(Hest,flatHest,TRAIN_SIZE,SNR,n,K,R,N,INPUT_SIZE,qamTab,antennaNorm);\n",
    "testing = GenerateData(H,flatHest,TEST_SIZE,SNR,n,K,R,N,INPUT_SIZE,qamTab,antennaNorm);\n",
    "\n",
    "net = trainNetwork(training.Y,training.B,layers,options);\n",
    "Bhat = predict(net,testing.Y);\n",
    "%Bhat = 1./(1+exp(-Bhat));\n",
    "\n",
    "disp(mean(mean(abs(squeeze(Bhat>.5) - squeeze(testing.B)'))));\n",
    "end\n",
    "\n",
    "function [data] = GenerateData(H,flatHest,LEN,SNR,n,K,R,N,INPUT_SIZE,qamTab,antennaNorm)\n",
    "% Create MIMO data\n",
    "B = MIMOGenerator(n, LEN, K);\n",
    "\n",
    "% Polar encode and modulate\n",
    "[X, newLen, enc, enc_old] = ApplyPolarQAM(B, n, LEN, N, K, R, qamTab.qamBitSize, qamTab, 0, 0);\n",
    "\n",
    "% Receive antenna noise - AWGN\n",
    "noiseVal = 10^(-SNR/10)/n;    % scaled by 1/n so that the noise power per receiver is relative to unit power\n",
    "noiseVec = sqrt(noiseVal)*randn(n,newLen); % Each symbol is received noisily\n",
    "        \n",
    "% Apply channel\n",
    "Y = antennaNorm*H*X + noiseVec; % Nonfading gaussian channel\n",
    "\n",
    "Y = [real(Y); imag(Y)];\n",
    "\n",
    "Y = [reshape(Y,[],LEN); repmat(flatHest,1,LEN)];\n",
    "B = reshape(B,[],LEN);\n",
    "\n",
    "data.Y = reshape(Y, INPUT_SIZE, 1, 1, LEN);\n",
    "data.B = reshape(B(1:K,:), 1, 1, K, LEN);\n",
    "end\n"
   ]
  },
  {
   "cell_type": "code",
   "execution_count": null,
   "metadata": {},
   "outputs": [],
   "source": []
  }
 ],
 "metadata": {
  "kernelspec": {
   "display_name": "MATLAB",
   "language": "matlab",
   "name": "imatlab"
  },
  "language_info": {
   "codemirror_mode": "octave",
   "file_extension": ".m",
   "mimetype": "text/x-matlab",
   "name": "matlab",
   "nbconvert_exporter": "imatlab._exporter.MatlabExporter",
   "pygments_lexer": "matlab",
   "version": "9.2.0.538062 (R2017a)"
  }
 },
 "nbformat": 4,
 "nbformat_minor": 2
}
